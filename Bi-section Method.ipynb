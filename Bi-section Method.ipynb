{
 "cells": [
  {
   "cell_type": "code",
   "execution_count": 8,
   "metadata": {},
   "outputs": [
    {
     "name": "stdout",
     "output_type": "stream",
     "text": [
      "Minima at: 3.000099997734651\n",
      "Minimum function value: 27.000000029997974\n"
     ]
    }
   ],
   "source": [
    "## This code is developed by Sreemannarayana Ikkurthi\n",
    "## As a part of course notes for the course 15AES477: Multidisciplinary Design Optimization (MDO) \n",
    "## In support of Dr. Rajesh Senthil Kumar T., Assistant Professor \n",
    "## Department of Aerospace Engneering, Amrita Vishwa Vidyapeetham\n",
    "\n",
    "################################################ BISECTION METHOD #########################################################\n",
    "def d_f(x, dx):\n",
    "    df = (f(x+dx)-f(x-dx))/2*dx\n",
    "    return df\n",
    "\n",
    "def bi_p(a, b):\n",
    "    z = (a+b)/2\n",
    "    return z\n",
    "\n",
    "def optima(z, a, b):\n",
    "    while abs(d_f(z, 0.01*abs(z))) > 0.0000000001:\n",
    "        z = bi_p(a, b)\n",
    "        if d_f(z, 0.01*abs(z)) > 0:\n",
    "            b = z\n",
    "        else:\n",
    "            a = z\n",
    "    return z\n",
    "###########################################################################################################################\n",
    "\n",
    "###################################################### INPUT ##############################################################\n",
    "a = 0     ## LOWER LIMIT\n",
    "b = 1000  ## UPPER LIMIT\n",
    "z = bi_p(a, b)\n",
    "\n",
    "## OBJECTIVE FUNCTION\n",
    "def f(x):\n",
    "    fun = x**2 + 54/x\n",
    "    return fun\n",
    "###########################################################################################################################\n",
    "\n",
    "z = optima(z, a, b)\n",
    "print(f'Minima at: {z}')\n",
    "print(f'Minimum function value: {f(z)}')"
   ]
  },
  {
   "cell_type": "code",
   "execution_count": null,
   "metadata": {},
   "outputs": [],
   "source": []
  }
 ],
 "metadata": {
  "kernelspec": {
   "display_name": "Python 3",
   "language": "python",
   "name": "python3"
  },
  "language_info": {
   "codemirror_mode": {
    "name": "ipython",
    "version": 3
   },
   "file_extension": ".py",
   "mimetype": "text/x-python",
   "name": "python",
   "nbconvert_exporter": "python",
   "pygments_lexer": "ipython3",
   "version": "3.7.6"
  }
 },
 "nbformat": 4,
 "nbformat_minor": 4
}
